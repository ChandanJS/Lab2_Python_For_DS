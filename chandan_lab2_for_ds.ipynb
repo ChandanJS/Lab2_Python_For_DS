{
 "cells": [
  {
   "cell_type": "code",
   "execution_count": null,
   "id": "1697f0dc-1554-4bc0-bce4-1bae4245edbf",
   "metadata": {},
   "outputs": [],
   "source": [
    "import pandas as pd\n",
    "import numpy as np\n",
    "import seaborn as sns\n",
    "import matplotlib.pyplot as plt \n",
    "%matplotlib inline\n",
    "\n",
    "import warnings \n",
    "warnings.filterwarnings('ignore')\n",
    "\n",
    "from sklearn.preprocessing import MinMaxScaler\n",
    "from sklearn.cross_validation import train_test_split"
   ]
  },
  {
   "cell_type": "code",
   "execution_count": null,
   "id": "6b21d7ec-f2bf-4fe0-bfb4-da61a3d9708b",
   "metadata": {},
   "outputs": [],
   "source": [
    "df=pd.read_csv(r'C:\\Users\\HP\\Downloads\\tips.csv')\n",
    "df.head\n",
    "df.info"
   ]
  },
  {
   "cell_type": "code",
   "execution_count": null,
   "id": "de1282a7-762e-493b-a1f0-bf53a7ce18d3",
   "metadata": {},
   "outputs": [],
   "source": [
    "cols=df.columns\n",
    "num_cols=df._get_numeric_data().columns\n",
    "\n",
    "numerical_cols = df.select_dtypes(exclude=['object']).columns.tolist()\n",
    "print(numerical_cols)\n",
    "\n",
    "categorical_cols = df.select_dtypes(include=['object']).columns.tolist()\n",
    "print(categorical_cols)"
   ]
  },
  {
   "cell_type": "code",
   "execution_count": null,
   "id": "9c27aa59-a44d-4203-a16e-8c13ded242d7",
   "metadata": {},
   "outputs": [],
   "source": [
    "avg_bill_per_day = df.groupby('day')['total_bill'].mean()\n",
    "print(avg_bill_per_day)"
   ]
  },
  {
   "cell_type": "code",
   "execution_count": null,
   "id": "4f78edc5-3d22-468e-be78-abab171bdab2",
   "metadata": {},
   "outputs": [],
   "source": [
    "max_contri=df.groupby('sex')['tip'].max()\n",
    "print(max_contri)"
   ]
  },
  {
   "cell_type": "code",
   "execution_count": null,
   "id": "b470aef6-f697-4d93-8861-0c7a0fd53e03",
   "metadata": {},
   "outputs": [],
   "source": [
    "average_tip_by_gender = df.groupby('sex')['tip'].mean()\n",
    "more_generous_gender = average_tip_by_gender.max()\n",
    "print(more_generous_gender)"
   ]
  },
  {
   "cell_type": "code",
   "execution_count": null,
   "id": "0fd0da8f-0811-4b8f-ad1b-26f213dade18",
   "metadata": {},
   "outputs": [],
   "source": [
    "max_time=df.groupby('time')['size'].count()\n",
    "print(max_time)"
   ]
  },
  {
   "cell_type": "code",
   "execution_count": null,
   "id": "a339eede-71f5-44b8-9717-504154581464",
   "metadata": {},
   "outputs": [],
   "source": [
    "tips_summary = df['tip'].describe()\n",
    "print(tips_summary)"
   ]
  },
  {
   "cell_type": "code",
   "execution_count": null,
   "id": "96ed8c7e-a0e2-44f2-ad0b-7291f10131cc",
   "metadata": {},
   "outputs": [],
   "source": [
    "df.day.mode()"
   ]
  },
  {
   "cell_type": "code",
   "execution_count": null,
   "id": "6c18d7a3-67ca-4e81-96ee-026c1e36ad76",
   "metadata": {},
   "outputs": [],
   "source": [
    "sns.distplot(df['total_bill'])\n",
    "plt.show()"
   ]
  },
  {
   "cell_type": "code",
   "execution_count": null,
   "id": "a7a8ab63-cdb5-481a-8bdd-e14654a1d0d1",
   "metadata": {},
   "outputs": [],
   "source": [
    "df[['tip','total_bill']].corr()"
   ]
  },
  {
   "cell_type": "code",
   "execution_count": null,
   "id": "446e5d55-710a-4445-9fac-e6fb0e143c56",
   "metadata": {},
   "outputs": [],
   "source": [
    "sns.scatterplot(x='total_bill',y='tip',data=df)\n",
    "plt.show()"
   ]
  },
  {
   "cell_type": "code",
   "execution_count": null,
   "id": "2d4d8714-9fb7-46d5-8023-6b1e82315a53",
   "metadata": {},
   "outputs": [],
   "source": [
    "df['sex'].value_counts(normalize=True).plot(kind='pie',autopct='%.2f%%')\n",
    "plt.show()"
   ]
  },
  {
   "cell_type": "code",
   "execution_count": null,
   "id": "ed13181c-4af8-4dc4-afe8-7d98c9eff8de",
   "metadata": {},
   "outputs": [],
   "source": [
    "df.groupby('sex')['smoker'].value_counts()\n"
   ]
  },
  {
   "cell_type": "code",
   "execution_count": null,
   "id": "97a06013-156d-448d-bb3d-a858118aecf1",
   "metadata": {},
   "outputs": [],
   "source": [
    "df.groupby('sex')['smoker'].value_counts(normalize=True).plot(kind='pie',autopct='%.2f%%')\n",
    "plt.show()"
   ]
  },
  {
   "cell_type": "code",
   "execution_count": null,
   "id": "6bcdadfb-a2b6-4689-b1cc-afbd9427986a",
   "metadata": {},
   "outputs": [],
   "source": [
    "pd.crosstab(df['smoker'],df['sex']).plot(kind='bar')\n",
    "plt.show()"
   ]
  },
  {
   "cell_type": "code",
   "execution_count": null,
   "id": "fa60deb7-c5d3-4cb7-88f6-04a4714a1738",
   "metadata": {},
   "outputs": [],
   "source": [
    "df.groupby('day')['tip'].mean()"
   ]
  },
  {
   "cell_type": "code",
   "execution_count": null,
   "id": "4a8ced8d-96a5-4148-aea4-db2eea578c08",
   "metadata": {},
   "outputs": [],
   "source": [
    "sns.barplot(x='day',y='tip',data=df)\n",
    "plt.show()"
   ]
  },
  {
   "cell_type": "code",
   "execution_count": null,
   "id": "02c1db7a-2118-4ae4-a77e-75c58a68a20f",
   "metadata": {},
   "outputs": [],
   "source": [
    "df.groupby('size')['total_bill'].mean().plot(kind='bar')\n",
    "plt.show()"
   ]
  },
  {
   "cell_type": "code",
   "execution_count": null,
   "id": "2ce8270f-43d8-45a8-85f7-c51b9bee8b07",
   "metadata": {},
   "outputs": [],
   "source": [
    "sns.boxplot(x='total_bill',y='sex',data=df)\n",
    "plt.show()"
   ]
  },
  {
   "cell_type": "code",
   "execution_count": null,
   "id": "e8a1ff68-06a8-431f-b1a3-a91a1fb3d056",
   "metadata": {},
   "outputs": [],
   "source": [
    "df.groupby(['day','time'])['total_bill'].max()"
   ]
  },
  {
   "cell_type": "code",
   "execution_count": null,
   "id": "b1d66461-3621-469f-bc1a-39e867e7cca1",
   "metadata": {},
   "outputs": [],
   "source": [
    "df.isnull().sum()/len(df)*100"
   ]
  },
  {
   "cell_type": "code",
   "execution_count": null,
   "id": "bbec0436-fe88-4b1f-9440-cff89edfbafe",
   "metadata": {},
   "outputs": [],
   "source": [
    "len(df[df.duplicated()])"
   ]
  },
  {
   "cell_type": "code",
   "execution_count": null,
   "id": "fb5bf161-e5cb-461f-863f-85c75460f7d8",
   "metadata": {},
   "outputs": [],
   "source": [
    "df.drop_duplicates(inplace=True)"
   ]
  },
  {
   "cell_type": "code",
   "execution_count": null,
   "id": "b46ef72f-0a10-4edb-b6f2-a5f4020d85d9",
   "metadata": {},
   "outputs": [],
   "source": [
    "sns.boxplot(df['total_bill'])\n",
    "plt.show()"
   ]
  },
  {
   "cell_type": "code",
   "execution_count": null,
   "id": "c44196d2-398e-451c-b81b-73a362bd5fd7",
   "metadata": {},
   "outputs": [],
   "source": [
    "df['total_bill_trnsf']=np.log(df['total_bill'])\n",
    "sns.boxplot(df['total_bill_trnsf'])\n",
    "plt.show()"
   ]
  },
  {
   "cell_type": "code",
   "execution_count": null,
   "id": "2cf04b56-9dbd-47b0-8410-f26fcb05d91c",
   "metadata": {},
   "outputs": [],
   "source": [
    "sns.boxplot(df['tip'])\n",
    "plt.show()"
   ]
  },
  {
   "cell_type": "code",
   "execution_count": null,
   "id": "1f363433-7496-4812-b0cb-b9bcf0ae72ec",
   "metadata": {},
   "outputs": [],
   "source": [
    "Q1=df['tip'].quantile(0.25)\n",
    "Q3=df['tip'].quantile(0.75)\n",
    "IQR=Q3-Q1\n",
    "lower_whisker=Q1-(1.5*IQR)\n",
    "upper_whisker=Q3+(1.5*IQR)"
   ]
  },
  {
   "cell_type": "code",
   "execution_count": null,
   "id": "6d28d5ae-a422-42e6-a924-5291fe558239",
   "metadata": {},
   "outputs": [],
   "source": [
    "df_out=df.loc[(df['tip']<upper_whisker) & (df['tip']>lower_whisker)]"
   ]
  },
  {
   "cell_type": "code",
   "execution_count": null,
   "id": "b2c018e2-a3e7-470f-aa16-0420701ee459",
   "metadata": {},
   "outputs": [],
   "source": [
    "sns.boxplot(df_out['tip'])\n",
    "plt.show()"
   ]
  },
  {
   "cell_type": "code",
   "execution_count": null,
   "id": "c8222358-deb5-465d-a099-62dd63c3e815",
   "metadata": {},
   "outputs": [],
   "source": [
    "df=pd.get_dummies(df,drop_first=True)\n",
    "df.sample(5)"
   ]
  },
  {
   "cell_type": "code",
   "execution_count": null,
   "id": "e8721aa7-7537-4538-8720-46a42721acd1",
   "metadata": {},
   "outputs": [],
   "source": [
    "tb_max=df['total_bill'].max()\n",
    "tb_min=df['total_bill'].min()\n",
    "range=tb_max-tb_min\n",
    "print(range)"
   ]
  },
  {
   "cell_type": "code",
   "execution_count": null,
   "id": "945d8a1b-f2a6-4ab3-9090-e1833d73e256",
   "metadata": {},
   "outputs": [],
   "source": [
    "mm=MinMaxScaler()"
   ]
  },
  {
   "cell_type": "code",
   "execution_count": null,
   "id": "5f32acc1-75ce-4b85-9190-4952252b29a0",
   "metadata": {},
   "outputs": [],
   "source": [
    "df['total_bill_mm']=mm.fit_transform(df[['total_bill']])"
   ]
  },
  {
   "cell_type": "code",
   "execution_count": null,
   "id": "e8628ec5-5c37-47f0-85b3-45a80a9aa01d",
   "metadata": {},
   "outputs": [],
   "source": [
    "tb_mm_max=df['total_bill_mm'].max()\n",
    "tb_mm_min=df['total_bill_mm'].min()\n",
    "range_mm=tb_mm_max-tb_mm_min\n",
    "print(range_mm)"
   ]
  },
  {
   "cell_type": "code",
   "execution_count": null,
   "id": "049ad575-20c7-4fa0-b15f-3b319b77d801",
   "metadata": {},
   "outputs": [],
   "source": [
    "tips_df=pd.read_csv(r'C:\\Users\\HP\\Downloads\\tips.csv')\n",
    "df.head\n",
    "df.info"
   ]
  },
  {
   "cell_type": "code",
   "execution_count": null,
   "id": "52680949-e93c-4b08-a1c4-482a25ceafcc",
   "metadata": {},
   "outputs": [],
   "source": [
    "tips_df=pd.get_dummies(tips_df,drop_first=True)\n",
    "tips_df.head(2)"
   ]
  },
  {
   "cell_type": "code",
   "execution_count": null,
   "id": "cf70ef47-50e4-4002-b31a-1e77655ce066",
   "metadata": {},
   "outputs": [],
   "source": [
    "X=tips_df.drop('tip',axis=1)\n",
    "Y=tips_df['tip']"
   ]
  },
  {
   "cell_type": "code",
   "execution_count": null,
   "id": "85417739-6359-48d0-9f5f-94224d0252e6",
   "metadata": {},
   "outputs": [],
   "source": [
    "X_train, X_test,y_train, y_test=train_test_split(X,y,test_size=0.30)\n",
    "print(X_train.shape,X_test.shape)\n",
    "print(y_train.shape,y_test.shape)\n",
    "mm=MinMaxScaler()\n",
    "X_train.iloc[:,:2]=mm.fit_transform(X_train.iloc[:,:2])\n",
    "X_test.iloc[:,:2]=mm.fit_transform(X_test.iloc[:,:2])"
   ]
  },
  {
   "cell_type": "code",
   "execution_count": null,
   "id": "f11d8644-8568-4850-9dfc-9e6376cafe13",
   "metadata": {},
   "outputs": [],
   "source": [
    "lr=LinearRegression()\n",
    "lr.fit(X_train,y_train)"
   ]
  },
  {
   "cell_type": "code",
   "execution_count": null,
   "id": "c806577e-ca99-420d-b16b-0773b6bc8efe",
   "metadata": {},
   "outputs": [],
   "source": [
    "pred=lr.predict(X_test)"
   ]
  },
  {
   "cell_type": "code",
   "execution_count": null,
   "id": "4f572547-7f82-4b4c-8a48-f4499284e8c5",
   "metadata": {},
   "outputs": [],
   "source": [
    "print('r2-score-test',r2_score(y_test,pred)"
   ]
  }
 ],
 "metadata": {
  "kernelspec": {
   "display_name": "Python 3 (ipykernel)",
   "language": "python",
   "name": "python3"
  },
  "language_info": {
   "codemirror_mode": {
    "name": "ipython",
    "version": 3
   },
   "file_extension": ".py",
   "mimetype": "text/x-python",
   "name": "python",
   "nbconvert_exporter": "python",
   "pygments_lexer": "ipython3",
   "version": "3.11.7"
  }
 },
 "nbformat": 4,
 "nbformat_minor": 5
}
